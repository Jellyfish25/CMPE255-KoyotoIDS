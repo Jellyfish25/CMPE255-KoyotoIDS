{
 "cells": [
  {
   "cell_type": "markdown",
   "id": "42bc0e24-c04a-4f7e-9e26-be25c2a06488",
   "metadata": {},
   "source": [
    "# Background\n",
    "Dataset: https://www.takakura.com/Kyoto_data/new_data201704/"
   ]
  },
  {
   "cell_type": "code",
   "execution_count": 1,
   "id": "66db897b-c88d-4ead-8597-01e666ba0ec8",
   "metadata": {},
   "outputs": [
    {
     "name": "stdout",
     "output_type": "stream",
     "text": [
      "Hello World\n"
     ]
    }
   ],
   "source": [
    "print(\"Hello World\")"
   ]
  },
  {
   "cell_type": "markdown",
   "id": "3a326d7d-9db6-4f6b-9cab-89903be09539",
   "metadata": {},
   "source": [
    "# Pre-processing"
   ]
  },
  {
   "cell_type": "code",
   "execution_count": null,
   "id": "53d135dd-8f1f-4a1a-ae54-5cfc8e58d8c7",
   "metadata": {},
   "outputs": [],
   "source": []
  },
  {
   "cell_type": "markdown",
   "id": "5596e423-cc67-45db-b9ec-fae3eba017bb",
   "metadata": {},
   "source": [
    "# Modeling"
   ]
  },
  {
   "cell_type": "code",
   "execution_count": null,
   "id": "cf1bd2ab-cc67-43d3-9eb4-ac8257228f9c",
   "metadata": {},
   "outputs": [],
   "source": []
  },
  {
   "cell_type": "markdown",
   "id": "95113975-284e-4f4f-90bd-9fa507c03e07",
   "metadata": {},
   "source": [
    "# Post-processing"
   ]
  },
  {
   "cell_type": "code",
   "execution_count": null,
   "id": "6b4700fe-0c72-4029-aa0c-741833f26a26",
   "metadata": {},
   "outputs": [],
   "source": []
  },
  {
   "cell_type": "markdown",
   "id": "ab329490-0e0e-4f48-9043-abde9ef95bc9",
   "metadata": {},
   "source": [
    "# Analysis + Accuracy"
   ]
  },
  {
   "cell_type": "code",
   "execution_count": null,
   "id": "c9c4396e-b2fc-4700-959d-9ae6937833e5",
   "metadata": {},
   "outputs": [],
   "source": []
  }
 ],
 "metadata": {
  "kernelspec": {
   "display_name": "Python 3 (ipykernel)",
   "language": "python",
   "name": "python3"
  },
  "language_info": {
   "codemirror_mode": {
    "name": "ipython",
    "version": 3
   },
   "file_extension": ".py",
   "mimetype": "text/x-python",
   "name": "python",
   "nbconvert_exporter": "python",
   "pygments_lexer": "ipython3",
   "version": "3.8.8"
  }
 },
 "nbformat": 4,
 "nbformat_minor": 5
}
