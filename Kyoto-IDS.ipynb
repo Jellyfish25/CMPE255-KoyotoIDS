{
 "cells": [
  {
   "cell_type": "markdown",
   "id": "42bc0e24-c04a-4f7e-9e26-be25c2a06488",
   "metadata": {},
   "source": [
    "# Background\n",
    "Dataset: https://www.takakura.com/Kyoto_data/new_data201704/"
   ]
  },
  {
   "cell_type": "code",
   "execution_count": 8,
   "id": "66db897b-c88d-4ead-8597-01e666ba0ec8",
   "metadata": {},
   "outputs": [],
   "source": [
    "# Necessary imports\n",
    "import pandas as pd\n",
    "import os\n",
    "import warnings\n",
    "from shutil import rmtree"
   ]
  },
  {
   "cell_type": "markdown",
   "id": "3a326d7d-9db6-4f6b-9cab-89903be09539",
   "metadata": {},
   "source": [
    "# Pre-processing"
   ]
  },
  {
   "cell_type": "markdown",
   "id": "e8dc0acf-41e4-4bbb-97a6-6180a9186f55",
   "metadata": {},
   "source": [
    "### Converting the data from txt format to CSV format to make the data easier to work with"
   ]
  },
  {
   "cell_type": "code",
   "execution_count": 11,
   "id": "53d135dd-8f1f-4a1a-ae54-5cfc8e58d8c7",
   "metadata": {},
   "outputs": [
    {
     "name": "stdout",
     "output_type": "stream",
     "text": [
      "Creating January.csv...\n",
      "Creating February.csv...\n",
      "Creating March.csv...\n",
      "Creating April.csv...\n",
      "Creating May.csv...\n",
      "Creating June.csv...\n",
      "Creating July.csv...\n",
      "Creating August.csv...\n",
      "Creating September.csv...\n",
      "Creating October.csv...\n",
      "Creating November.csv...\n",
      "Creating December.csv...\n"
     ]
    }
   ],
   "source": [
    "# Since our data has mixed attribute types, we suppress the pandas warning regarding it\n",
    "warnings.simplefilter(action='ignore', category=pd.errors.DtypeWarning)\n",
    "\n",
    "# From the data documentation\n",
    "columns = [\n",
    "    \"Duration (seconds)\",\n",
    "    \"Service Type\",\n",
    "    \"Source bytes\",\n",
    "    \"Destination bytes\",\n",
    "    \"Count\",\n",
    "    \"Same srv rate\",\n",
    "    \"Serror rate\",\n",
    "    \"Srv serror rate\",\n",
    "    \"Dst host count\",\n",
    "    \"Dst host srv count\",\n",
    "    \"Dst host same src port rate\",\n",
    "    \"Dst host serror rate\",\n",
    "    \"Dst host srv serror rate\",\n",
    "    \"Flag\",\n",
    "    \"IDS detection\",\n",
    "    \"Malware detection\",\n",
    "    \"Ashula detection\",\n",
    "    \"Label\",\n",
    "    \"Source IP Address\",\n",
    "    \"Source Port Number\",\n",
    "    \"Destination IP Address\",\n",
    "    \"Destination Port Number\",\n",
    "    \"Start Time\",\n",
    "    \"Protocol\"\n",
    "]\n",
    "\n",
    "# Delete the CSVs folder if it already exists\n",
    "rmtree(\"Data/CSVs/\", ignore_errors = True)\n",
    "# Make it again\n",
    "os.mkdir(\"Data/CSVs/\")\n",
    "\n",
    "# Since we're iterating through all months in the year\n",
    "for month in range(1, 13):\n",
    "    month_encoder = {\n",
    "        1: \"January\",\n",
    "        2: \"February\",\n",
    "        3: \"March\",\n",
    "        4: \"April\",\n",
    "        5: \"May\",\n",
    "        6: \"June\",\n",
    "        7: \"July\",\n",
    "        8: \"August\",\n",
    "        9: \"September\",\n",
    "        10: \"October\",\n",
    "        11: \"November\",\n",
    "        12: \"December\"\n",
    "    }\n",
    "    print(f\"Creating {month_encoder[month]}.csv...\")\n",
    "    output_file = f\"Data/CSVs/{month_encoder[month]}.csv\"\n",
    "    if month < 10:\n",
    "        str_month = \"0\"+str(month)    # Since months are 2 digits in the file structure\n",
    "    else:\n",
    "        str_month = str(month)\n",
    "    \n",
    "    for data_file in os.listdir(f\"Data/{str(str_month)}\"):\n",
    "        file_path = os.path.join(f\"Data/{str(str_month)}\", data_file)\n",
    "        # Read the TXT using tab delimiters since that's how it's structured\n",
    "        day_data = pd.read_csv(file_path, delimiter=\"\\t\", names=columns, index_col=False)\n",
    "        # If [month].csv doesn't exist yet, create it\n",
    "        if not os.path.exists(output_file):\n",
    "            day_data.to_csv(output_file, mode='w', header=True, index=False)\n",
    "        # Or else append to it\n",
    "        else:\n",
    "            day_data.to_csv(output_file, mode='a', header=False, index=False)"
   ]
  },
  {
   "cell_type": "markdown",
   "id": "5596e423-cc67-45db-b9ec-fae3eba017bb",
   "metadata": {},
   "source": [
    "# Modeling"
   ]
  },
  {
   "cell_type": "code",
   "execution_count": null,
   "id": "cf1bd2ab-cc67-43d3-9eb4-ac8257228f9c",
   "metadata": {},
   "outputs": [],
   "source": []
  },
  {
   "cell_type": "markdown",
   "id": "95113975-284e-4f4f-90bd-9fa507c03e07",
   "metadata": {},
   "source": [
    "# Post-processing"
   ]
  },
  {
   "cell_type": "code",
   "execution_count": null,
   "id": "6b4700fe-0c72-4029-aa0c-741833f26a26",
   "metadata": {},
   "outputs": [],
   "source": []
  },
  {
   "cell_type": "markdown",
   "id": "ab329490-0e0e-4f48-9043-abde9ef95bc9",
   "metadata": {},
   "source": [
    "# Analysis + Accuracy"
   ]
  },
  {
   "cell_type": "code",
   "execution_count": null,
   "id": "c9c4396e-b2fc-4700-959d-9ae6937833e5",
   "metadata": {},
   "outputs": [],
   "source": []
  }
 ],
 "metadata": {
  "kernelspec": {
   "display_name": "Python 3 (ipykernel)",
   "language": "python",
   "name": "python3"
  },
  "language_info": {
   "codemirror_mode": {
    "name": "ipython",
    "version": 3
   },
   "file_extension": ".py",
   "mimetype": "text/x-python",
   "name": "python",
   "nbconvert_exporter": "python",
   "pygments_lexer": "ipython3",
   "version": "3.12.2"
  }
 },
 "nbformat": 4,
 "nbformat_minor": 5
}
